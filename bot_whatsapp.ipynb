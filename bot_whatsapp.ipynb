{
  "nbformat": 4,
  "nbformat_minor": 0,
  "metadata": {
    "colab": {
      "provenance": [],
      "authorship_tag": "ABX9TyNb9m+sUCxyn8GV4RFdygN9",
      "include_colab_link": true
    },
    "kernelspec": {
      "name": "python3",
      "display_name": "Python 3"
    },
    "language_info": {
      "name": "python"
    }
  },
  "cells": [
    {
      "cell_type": "markdown",
      "metadata": {
        "id": "view-in-github",
        "colab_type": "text"
      },
      "source": [
        "<a href=\"https://colab.research.google.com/github/guilleto/MetNumUN2022II/blob/main/bot_whatsapp.ipynb\" target=\"_parent\"><img src=\"https://colab.research.google.com/assets/colab-badge.svg\" alt=\"Open In Colab\"/></a>"
      ]
    },
    {
      "cell_type": "markdown",
      "source": [
        "Instalar las librerias:\n",
        "\n",
        "\n",
        "\n",
        "*  **yowsup2:** para acceder al api de whatsapp\n",
        "*   **openai:** para acceder al api de chatGpt\n",
        "\n"
      ],
      "metadata": {
        "id": "XIx5tM1dIqX8"
      }
    },
    {
      "cell_type": "code",
      "execution_count": 1,
      "metadata": {
        "colab": {
          "base_uri": "https://localhost:8080/",
          "height": 617
        },
        "id": "vrJj28o4GBXu",
        "outputId": "0c314a6e-e636-48d9-c0bb-ca97aed7b712"
      },
      "outputs": [
        {
          "output_type": "stream",
          "name": "stdout",
          "text": [
            "Requirement already satisfied: openai in /usr/local/lib/python3.10/dist-packages (1.11.1)\n",
            "Requirement already satisfied: anyio<5,>=3.5.0 in /usr/local/lib/python3.10/dist-packages (from openai) (3.7.1)\n",
            "Requirement already satisfied: distro<2,>=1.7.0 in /usr/lib/python3/dist-packages (from openai) (1.7.0)\n",
            "Requirement already satisfied: httpx<1,>=0.23.0 in /usr/local/lib/python3.10/dist-packages (from openai) (0.26.0)\n",
            "Requirement already satisfied: pydantic<3,>=1.9.0 in /usr/local/lib/python3.10/dist-packages (from openai) (1.10.14)\n",
            "Requirement already satisfied: sniffio in /usr/local/lib/python3.10/dist-packages (from openai) (1.3.0)\n",
            "Requirement already satisfied: tqdm>4 in /usr/local/lib/python3.10/dist-packages (from openai) (4.66.1)\n",
            "Requirement already satisfied: typing-extensions<5,>=4.7 in /usr/local/lib/python3.10/dist-packages (from openai) (4.9.0)\n",
            "Requirement already satisfied: idna>=2.8 in /usr/local/lib/python3.10/dist-packages (from anyio<5,>=3.5.0->openai) (3.6)\n",
            "Requirement already satisfied: exceptiongroup in /usr/local/lib/python3.10/dist-packages (from anyio<5,>=3.5.0->openai) (1.2.0)\n",
            "Requirement already satisfied: certifi in /usr/local/lib/python3.10/dist-packages (from httpx<1,>=0.23.0->openai) (2023.11.17)\n",
            "Requirement already satisfied: httpcore==1.* in /usr/local/lib/python3.10/dist-packages (from httpx<1,>=0.23.0->openai) (1.0.2)\n",
            "Requirement already satisfied: h11<0.15,>=0.13 in /usr/local/lib/python3.10/dist-packages (from httpcore==1.*->httpx<1,>=0.23.0->openai) (0.14.0)\n",
            "Requirement already satisfied: yowsup2 in /usr/local/lib/python3.10/dist-packages (3.2.3)\n",
            "Requirement already satisfied: consonance==0.1.2 in /usr/local/lib/python3.10/dist-packages (from yowsup2) (0.1.2)\n",
            "Collecting argparse (from yowsup2)\n",
            "  Using cached argparse-1.4.0-py2.py3-none-any.whl (23 kB)\n",
            "Requirement already satisfied: python-axolotl==0.2.2 in /usr/local/lib/python3.10/dist-packages (from yowsup2) (0.2.2)\n",
            "Requirement already satisfied: six==1.10 in /usr/local/lib/python3.10/dist-packages (from yowsup2) (1.10.0)\n",
            "Requirement already satisfied: appdirs in /usr/local/lib/python3.10/dist-packages (from yowsup2) (1.4.4)\n",
            "Requirement already satisfied: protobuf>=3.6.0 in /usr/local/lib/python3.10/dist-packages (from yowsup2) (3.20.3)\n",
            "Requirement already satisfied: dissononce>=0.34.3 in /usr/local/lib/python3.10/dist-packages (from consonance==0.1.2->yowsup2) (0.34.3)\n",
            "Requirement already satisfied: python-axolotl-curve25519 in /usr/local/lib/python3.10/dist-packages (from consonance==0.1.2->yowsup2) (0.4.1.post2)\n",
            "Requirement already satisfied: transitions in /usr/local/lib/python3.10/dist-packages (from consonance==0.1.2->yowsup2) (0.9.0)\n",
            "Requirement already satisfied: cryptography in /usr/local/lib/python3.10/dist-packages (from python-axolotl==0.2.2->yowsup2) (42.0.2)\n",
            "Requirement already satisfied: cffi>=1.12 in /usr/local/lib/python3.10/dist-packages (from cryptography->python-axolotl==0.2.2->yowsup2) (1.16.0)\n",
            "Requirement already satisfied: pycparser in /usr/local/lib/python3.10/dist-packages (from cffi>=1.12->cryptography->python-axolotl==0.2.2->yowsup2) (2.21)\n",
            "Installing collected packages: argparse\n",
            "Successfully installed argparse-1.4.0\n"
          ]
        },
        {
          "output_type": "display_data",
          "data": {
            "application/vnd.colab-display-data+json": {
              "pip_warning": {
                "packages": [
                  "argparse"
                ]
              }
            }
          },
          "metadata": {}
        }
      ],
      "source": [
        "!pip install openai\n",
        "!pip install yowsup2\n"
      ]
    },
    {
      "cell_type": "markdown",
      "source": [
        "Aqui viene el codigo de importacion de dependencias"
      ],
      "metadata": {
        "id": "XkWw3G7sKIRO"
      }
    },
    {
      "cell_type": "code",
      "source": [
        "import os\n",
        "import openai\n",
        "from yowsup.layers.protocol_messages.protocolentities.message_text import TextMessageProtocolEntity\n",
        "from yowsup.stacks import YowStackBuilder\n",
        "from yowsup.layers import YowLayerEvent\n",
        "from yowsup.layers.auth import YowAuthenticationProtocolLayer\n",
        "from yowsup.layers.coder import YowCoderLayer\n",
        "from yowsup.layers.network import YowNetworkLayer\n",
        "from yowsup.layers.stanzaregulator import YowStanzaRegulator\n",
        "from yowsup.layers.protocol_receipts.protocolentities.receipt_ack import AckProtocolEntity\n",
        "from yowsup.layers.protocol_receipts.protocolentities.receipt_group import ReceiptGroupProtocolEntity\n",
        "from yowsup.layers.protocol_presence.protocolentities.presence_available import AvailablePresenceProtocolEntity\n",
        "from yowsup.layers.protocol_presence.protocolentities.presence_unavailable import UnavailablePresenceProtocolEntity\n",
        "from yowsup.layers.protocol_acks.protocolentities.ack_outgoing import OutgoingAckProtocolEntity\n",
        "from yowsup.layers.protocol_messages.protocolentities.message_text import TextMessageProtocolEntity\n",
        "from yowsup.layers import YowParallelLayer\n",
        "from yowsup.common import YowConstants\n",
        "from yowsup.layers.axolotl import YowAxolotlLayer"
      ],
      "metadata": {
        "id": "iD1SHMOCKHsO"
      },
      "execution_count": null,
      "outputs": []
    },
    {
      "cell_type": "markdown",
      "source": [
        "Codigo de clase para usar Yowsup, coneccion"
      ],
      "metadata": {
        "id": "eHMVe6kcKaZt"
      }
    },
    {
      "cell_type": "code",
      "source": [
        "\n",
        "# Configuración de las credenciales de WhatsApp\n",
        "credentials = (\"573022290705\", \"tu_password\")\n",
        "\n",
        "# Configuración de la clave de la API de OpenAI\n",
        "openai.api_key = 'tu_api_key'\n",
        "\n",
        "# Función para generar respuesta modificada utilizando GPT\n",
        "def generar_respuesta_fantasia(mensaje):\n",
        "    respuesta = openai.Completion.create(\n",
        "        engine=\"text-davinci-003\",\n",
        "        prompt=mensaje,\n",
        "        max_tokens=50\n",
        "    )\n",
        "    return respuesta.choices[0].text.strip()\n",
        "\n",
        "# Función para manejar los eventos de mensajes salientes\n",
        "def manejar_mensaje_saliente(event):\n",
        "    message = event.getArg(\"message\")\n",
        "    texto_enviado = message.getBody()\n",
        "    texto_modificado = generar_respuesta_fantasia(texto_enviado)\n",
        "    # Envía el mensaje modificado\n",
        "    stack.broadcast(TextMessageProtocolEntity(texto_modificado, to=message.getFrom()))\n",
        "\n",
        "# Configuración de la pila Yowsup\n",
        "stackBuilder = YowStackBuilder()\n",
        "stack = stackBuilder \\\n",
        "    .pushDefaultLayers(True) \\\n",
        "    .push(YowAuthenticationProtocolLayer) \\\n",
        "    .push(YowAxolotlLayer) \\\n",
        "    .push(YowCoderLayer) \\\n",
        "    .push(YowStanzaRegulator) \\\n",
        "    .push(YowNetworkLayer) \\\n",
        "    .build()\n",
        "\n",
        "stack.setCredentials(credentials)\n",
        "\n",
        "# Manejo de eventos de mensaje saliente\n",
        "stack.getLayerInterface(YowNetworkLayer).addEvent(YowLayerEvent.EVENT_STATE_CONNECT, manejar_mensaje_saliente)\n",
        "\n",
        "# Conectarse a WhatsApp\n",
        "stack.broadcast(AvailablePresenceProtocolEntity())\n",
        "stack.loop()"
      ],
      "metadata": {
        "id": "LcfjKxesKeD1"
      },
      "execution_count": null,
      "outputs": []
    },
    {
      "cell_type": "markdown",
      "source": [
        "Codigo de envio de recibir y enviar mensaje codificado"
      ],
      "metadata": {
        "id": "nK2MgZ2qKfEb"
      }
    }
  ]
}